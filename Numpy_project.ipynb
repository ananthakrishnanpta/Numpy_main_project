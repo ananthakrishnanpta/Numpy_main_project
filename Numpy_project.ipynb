{
  "nbformat": 4,
  "nbformat_minor": 0,
  "metadata": {
    "colab": {
      "name": "Numpy project.ipynb",
      "provenance": [],
      "collapsed_sections": [],
      "authorship_tag": "ABX9TyM86w7n3wr1XZfgLx6blXb3",
      "include_colab_link": true
    },
    "kernelspec": {
      "name": "python3",
      "display_name": "Python 3"
    },
    "language_info": {
      "name": "python"
    }
  },
  "cells": [
    {
      "cell_type": "markdown",
      "metadata": {
        "id": "view-in-github",
        "colab_type": "text"
      },
      "source": [
        "<a href=\"https://colab.research.google.com/github/ananthakrishnanpta/Numpy_main_project/blob/main/Numpy_project.ipynb\" target=\"_parent\"><img src=\"https://colab.research.google.com/assets/colab-badge.svg\" alt=\"Open In Colab\"/></a>"
      ]
    },
    {
      "cell_type": "code",
      "source": [
        "import numpy as np\n",
        "\n",
        "# Loading File to 'data_file'\n",
        "from google.colab import drive\n",
        "drive.mount('/content/drive')\n",
        "\n",
        "\n",
        "data_file  = \"/content/drive/My Drive/Colab Notebooks/Data processing/KAG_Conversion_Data.csv\"\n",
        "file = open(data_file, 'r')\n",
        "\n",
        "data = np.genfromtxt(data_file, delimiter = \",\", skip_header = 1)\n",
        "data_s = np.genfromtxt(data_file, delimiter = \",\", skip_header = 1, dtype = str)\n",
        "\n",
        "ad_id = data[:,0]\n",
        "xyz_campaign_id = data[:,1]\n",
        "fb_campaign_id = data[:,2]\n",
        "age = data_s[:,3]\n",
        "gender = data_s[:,4]\n",
        "interest = data[:,5]\n",
        "Impressions = data[:,6]\n",
        "clicks = data[:,7]\n",
        "Spent = data[:,8]\n",
        "Total_conversion = data[:,9]\n",
        "approved_conversion = data[:,10]\n"
      ],
      "metadata": {
        "colab": {
          "base_uri": "https://localhost:8080/"
        },
        "id": "0XFirGXXjzLT",
        "outputId": "72ccf932-9d1d-440f-c10e-a0e59d93daeb"
      },
      "execution_count": 60,
      "outputs": [
        {
          "output_type": "stream",
          "name": "stdout",
          "text": [
            "Drive already mounted at /content/drive; to attempt to forcibly remount, call drive.mount(\"/content/drive\", force_remount=True).\n"
          ]
        }
      ]
    },
    {
      "cell_type": "code",
      "source": [
        "#1.How many unique ad campaigns (xyzcampaignid) does this data contain ? And for how many times was each campaign run ?\n",
        "\n",
        "print(\"1.How many unique ad campaigns (xyzcampaignid) does this data contain ? And for how many times was each campaign run ? \\n\")\n",
        "\n",
        "print(\"\\n No. of unique ad campaign ids :-\",len(set(xyz_campaign_id))) #conversion to set rips away duplicate values\n",
        "for i in set(xyz_campaign_id):\n",
        "  print(\"\\n  Campaign with campaign id {} was run {} times.\".format(i,list(xyz_campaign_id).count(i)))"
      ],
      "metadata": {
        "colab": {
          "base_uri": "https://localhost:8080/"
        },
        "id": "KQXcGz8JkDBv",
        "outputId": "acea553a-c448-43ca-a8b4-ff61d41337c5"
      },
      "execution_count": 61,
      "outputs": [
        {
          "output_type": "stream",
          "name": "stdout",
          "text": [
            "1.How many unique ad campaigns (xyzcampaignid) does this data contain ? And for how many times was each campaign run ? \n",
            "\n",
            "\n",
            " No. of unique ad campaign ids :- 3\n",
            "\n",
            "  Campaign with campaign id 936.0 was run 464 times.\n",
            "\n",
            "  Campaign with campaign id 1178.0 was run 625 times.\n",
            "\n",
            "  Campaign with campaign id 916.0 was run 54 times.\n"
          ]
        }
      ]
    },
    {
      "cell_type": "code",
      "source": [
        "#2. What are the age groups that were targeted through these ad campaigns?\n",
        "\n",
        "print(\"\\n2. What are the age groups that were targeted through these ad campaigns? \\n\")\n",
        "\n",
        "for i in set(xyz_campaign_id):\n",
        "  print(\"\\n  Age groups targeted by campaign with id {} is {}.\".format(i,tuple(set(age))))"
      ],
      "metadata": {
        "colab": {
          "base_uri": "https://localhost:8080/"
        },
        "id": "gDhf_t4TkFRG",
        "outputId": "d52faaee-09c5-4e86-d674-b5555f5ef8d4"
      },
      "execution_count": 62,
      "outputs": [
        {
          "output_type": "stream",
          "name": "stdout",
          "text": [
            "\n",
            "2. What are the age groups that were targeted through these ad campaigns? \n",
            "\n",
            "\n",
            "  Age groups targeted by campaign with id 936.0 is ('40-44', '30-34', '35-39', '45-49').\n",
            "\n",
            "  Age groups targeted by campaign with id 1178.0 is ('40-44', '30-34', '35-39', '45-49').\n",
            "\n",
            "  Age groups targeted by campaign with id 916.0 is ('40-44', '30-34', '35-39', '45-49').\n"
          ]
        }
      ]
    },
    {
      "cell_type": "code",
      "source": [
        "#3. What was the average, minimum and maximum amount spent on the ads?\n",
        "\n",
        "print(\"\\n3. What was the average, minimum and maximum amount spent on the ads? \\n\")\n",
        "\n",
        "print(\n",
        "    \"\"\"\n",
        "    \\n  Average amount spent = {} \n",
        "    \\n\\n  Minimum amount spent = {} \n",
        "    \\n\\n  Maximum amount spent = {}.\\n\\n\n",
        "    \"\"\".format(data[:,8].mean(),data[:,8].min(),data[:,8].max()))"
      ],
      "metadata": {
        "colab": {
          "base_uri": "https://localhost:8080/"
        },
        "id": "oaveNClBkHbW",
        "outputId": "4fe3cb01-28f3-4322-9e8c-315f6891d9f6"
      },
      "execution_count": 64,
      "outputs": [
        {
          "output_type": "stream",
          "name": "stdout",
          "text": [
            "\n",
            "3. What was the average, minimum and maximum amount spent on the ads? \n",
            "\n",
            "\n",
            "    \n",
            "  Average amount spent = 51.36065613141295 \n",
            "    \n",
            "\n",
            "  Minimum amount spent = 0.0 \n",
            "    \n",
            "\n",
            "  Maximum amount spent = 639.9499981.\n",
            "\n",
            "\n",
            "    \n"
          ]
        }
      ]
    },
    {
      "cell_type": "code",
      "source": [
        "#4. What is the id of the ad having the maximum number of clicks ?\n",
        "\n",
        "print(\"\\n4.What is the id of the ad having the maximum number of clicks ? \\n\")\n",
        "m = max(list(data[:,7]))\n",
        "\n",
        "statement = clicks == m\n",
        "\n",
        "print(\"\\n  The ad_id of the ad having the maximum number of clicks of {} is {}. \\n\".format(m,int(ad_id[statement])))"
      ],
      "metadata": {
        "colab": {
          "base_uri": "https://localhost:8080/"
        },
        "id": "e7YKxbo9kJwW",
        "outputId": "cbdcb51e-70ec-4975-bda2-cfff145c8f45"
      },
      "execution_count": 65,
      "outputs": [
        {
          "output_type": "stream",
          "name": "stdout",
          "text": [
            "\n",
            "4.What is the id of the ad having the maximum number of clicks ? \n",
            "\n",
            "\n",
            "  The ad_id of the ad having the maximum number of clicks of 421.0 is 1121814. \n",
            "\n"
          ]
        }
      ]
    },
    {
      "cell_type": "code",
      "source": [
        "#5. How many people bought the product after seeing the ad with most clicks? Is that the maximum number of purchases in this dataset?\n",
        "\n",
        "print(\"\\n5. How many people bought the product after seeing the ad with most clicks? Is that the maximum number of purchases in this dataset? \\n\")\n",
        "\n",
        "print(\"\\n  Total number of people who bought the product after seeing the ad with most clicks is:- {}.\".format(int(approved_conversion[statement])))\n",
        "\n",
        "if (approved_conversion.max() == m):\n",
        "  print(\"\\n This is the maximum number of purchases in this dataset. \\n\")\n",
        "else:\n",
        "  print(\"\\n   This is not the maximum number of purchases in this dataset. \\n\")"
      ],
      "metadata": {
        "colab": {
          "base_uri": "https://localhost:8080/"
        },
        "id": "cLPLnL-ykNGm",
        "outputId": "933760ff-cb97-4794-dee0-ab1dfe8d1edc"
      },
      "execution_count": 66,
      "outputs": [
        {
          "output_type": "stream",
          "name": "stdout",
          "text": [
            "\n",
            "5. How many people bought the product after seeing the ad with most clicks? Is that the maximum number of purchases in this dataset? \n",
            "\n",
            "\n",
            "  Total number of people who bought the product after seeing the ad with most clicks is:- 13.\n",
            "\n",
            "   This is not the maximum number of purchases in this dataset. \n",
            "\n"
          ]
        }
      ]
    },
    {
      "cell_type": "code",
      "source": [
        "#6. So the ad with the most clicks didn't fetch the maximum number of purchases. Find the details of the product having maximum number of purchases:-\n",
        "\n",
        "print(\"\\n6. So the ad with the most clicks didn't fetch the maximum number of purchases. Find the details of the product having maximum number of purchases:- \\n\")\n",
        "\n",
        "s2 = approved_conversion == approved_conversion.max()\n",
        "print(\"\\n\\n   The details of product with maximum number of purchases:- \\n\")\n",
        "print(\n",
        "\"\"\"\n",
        "\\n\\n\n",
        "    Ad_id = {}, \\n    \n",
        "    Campaign_id = {}, \\n    \n",
        "    fb_campaign_id = {}, \\n    \n",
        "    Age = {}, \\n    \n",
        "    Gender is {}, \\n    \n",
        "    Interest = {}, \\n    \n",
        "    Impressions = {}, \\n    \n",
        "    Clicks = {}, \\n    \n",
        "    Spent = {}, \\n    \n",
        "    Total_conversion = {}, \\n    \n",
        "    Approved_Conversion = {}. \\n\n",
        "    \"\"\".format(int(ad_id[s2]),int(xyz_campaign_id[s2]),int(fb_campaign_id[s2]),str(age[s2]).replace(\",\",\"\"),gender[s2],float(interest[s2]),float(Impressions[s2]),int(clicks[s2]),float(Spent[s2]),int(Total_conversion[s2]),int(approved_conversion[s2]))\n",
        "    )"
      ],
      "metadata": {
        "colab": {
          "base_uri": "https://localhost:8080/"
        },
        "id": "lpi-syiF3wgF",
        "outputId": "cf092c2a-b8cd-43e5-9470-9d3833384240"
      },
      "execution_count": 67,
      "outputs": [
        {
          "output_type": "stream",
          "name": "stdout",
          "text": [
            "\n",
            "6. So the ad with the most clicks didn't fetch the maximum number of purchases. Find the details of the product having maximum number of purchases:- \n",
            "\n",
            "\n",
            "\n",
            "   The details of product with maximum number of purchases:- \n",
            "\n",
            "\n",
            "\n",
            "\n",
            "\n",
            "    Ad_id = 1121104, \n",
            "    \n",
            "    Campaign_id = 1178, \n",
            "    \n",
            "    fb_campaign_id = 144533, \n",
            "    \n",
            "    Age = ['30-34'], \n",
            "    \n",
            "    Gender is ['M'], \n",
            "    \n",
            "    Interest = 16.0, \n",
            "    \n",
            "    Impressions = 2080666.0, \n",
            "    \n",
            "    Clicks = 202, \n",
            "    \n",
            "    Spent = 360.1500015, \n",
            "    \n",
            "    Total_conversion = 40, \n",
            "    \n",
            "    Approved_Conversion = 21. \n",
            "\n",
            "    \n"
          ]
        }
      ]
    }
  ]
}